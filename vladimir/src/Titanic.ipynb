{
 "cells": [
  {
   "cell_type": "code",
   "execution_count": 47,
   "metadata": {
    "collapsed": true
   },
   "outputs": [],
   "source": [
    "import pandas as pd\n",
    "import numpy as np\n",
    "\n",
    "from sklearn.pipeline import Pipeline\n",
    "from sklearn.preprocessing import Imputer\n",
    "from sklearn.pipeline import TransformerMixin\n",
    "from sklearn.ensemble import RandomForestClassifier\n",
    "from sklearn import cross_validation"
   ]
  },
  {
   "cell_type": "markdown",
   "metadata": {},
   "source": [
    "# Read data"
   ]
  },
  {
   "cell_type": "code",
   "execution_count": 39,
   "metadata": {
    "collapsed": true
   },
   "outputs": [],
   "source": [
    "train_df = pd.read_csv('../input/train.csv')\n",
    "test_df = pd.read_csv('../input/test.csv')"
   ]
  },
  {
   "cell_type": "markdown",
   "metadata": {},
   "source": [
    "# Target variable"
   ]
  },
  {
   "cell_type": "markdown",
   "metadata": {},
   "source": [
    "Target variable is **Survived**."
   ]
  },
  {
   "cell_type": "markdown",
   "metadata": {},
   "source": [
    "# Quality metric"
   ]
  },
  {
   "cell_type": "markdown",
   "metadata": {},
   "source": [
    "Your score is the percentage of passengers you correctly predict. That means - **accuracy**."
   ]
  },
  {
   "cell_type": "code",
   "execution_count": 48,
   "metadata": {
    "collapsed": true
   },
   "outputs": [],
   "source": [
    "class DummyEncoder(TransformerMixin):\n",
    "\n",
    "    def __init__(self, columns=None):\n",
    "\n",
    "        self.columns = columns\n",
    "\n",
    "    def transform(self, X, y=None, **kwargs):\n",
    "\n",
    "        return pd.get_dummies(X, columns=self.columns)\n",
    "\n",
    "    def fit(self, X, y=None, **kwargs):\n",
    "\n",
    "        return self"
   ]
  },
  {
   "cell_type": "markdown",
   "metadata": {},
   "source": [
    "## Run & evoluate single variable model"
   ]
  },
  {
   "cell_type": "code",
   "execution_count": 59,
   "metadata": {
    "collapsed": false
   },
   "outputs": [],
   "source": [
    "#enc = DummyEncoder()\n",
    "#\n"
   ]
  },
  {
   "cell_type": "code",
   "execution_count": 61,
   "metadata": {
    "collapsed": false
   },
   "outputs": [
    {
     "data": {
      "text/plain": [
       "array([[   1.,    0.,    3., ...,    0.,    0.,    1.],\n",
       "       [   2.,    1.,    1., ...,    1.,    0.,    0.],\n",
       "       [   3.,    1.,    3., ...,    0.,    0.,    1.],\n",
       "       ..., \n",
       "       [ 889.,    0.,    3., ...,    0.,    0.,    1.],\n",
       "       [ 890.,    1.,    1., ...,    1.,    0.,    0.],\n",
       "       [ 891.,    0.,    3., ...,    0.,    1.,    0.]])"
      ]
     },
     "execution_count": 61,
     "metadata": {},
     "output_type": "execute_result"
    }
   ],
   "source": [
    "imp = Imputer()\n",
    "imp.fit_transform(enc.fit_transform(train_df))"
   ]
  },
  {
   "cell_type": "code",
   "execution_count": 70,
   "metadata": {
    "collapsed": false
   },
   "outputs": [
    {
     "data": {
      "text/plain": [
       "array([[   1.,    0.,    3., ...,    0.,    0.,    1.],\n",
       "       [   2.,    1.,    1., ...,    1.,    0.,    0.],\n",
       "       [   3.,    1.,    3., ...,    0.,    0.,    1.],\n",
       "       ..., \n",
       "       [ 889.,    0.,    3., ...,    0.,    0.,    1.],\n",
       "       [ 890.,    1.,    1., ...,    1.,    0.,    0.],\n",
       "       [ 891.,    0.,    3., ...,    0.,    1.,    0.]])"
      ]
     },
     "execution_count": 70,
     "metadata": {},
     "output_type": "execute_result"
    }
   ],
   "source": [
    "pipeline = Pipeline([\n",
    "        ('encoder', DummyEncoder()),\n",
    "        ('missing', Imputer()), \n",
    "    ])\n",
    "\n",
    "pipeline.fit_transform(train_df)\n",
    "\n",
    "#y_pred = pipeline.predict(test_df.values)\n",
    "\n",
    "# scores = cross_validation.cross_val_score(model, X, y, cv=5, scoring='accuracy')\n",
    "# np.mean( scores ), np.std(scores)"
   ]
  },
  {
   "cell_type": "markdown",
   "metadata": {
    "collapsed": true
   },
   "source": [
    "**What do you think about this result?**"
   ]
  },
  {
   "cell_type": "code",
   "execution_count": null,
   "metadata": {
    "collapsed": true
   },
   "outputs": [],
   "source": []
  }
 ],
 "metadata": {
  "kernelspec": {
   "display_name": "Python 2",
   "language": "python",
   "name": "python2"
  }
 },
 "nbformat": 4,
 "nbformat_minor": 0
}
