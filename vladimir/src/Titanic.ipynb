{
 "cells": [
  {
   "cell_type": "code",
   "execution_count": 1,
   "metadata": {
    "collapsed": true
   },
   "outputs": [],
   "source": [
    "import pandas as pd\n",
    "import numpy as np\n",
    "\n",
    "from sklearn.base import BaseEstimator, ClassifierMixin\n",
    "from sklearn import cross_validation\n",
    "from sklearn.ensemble import RandomForestClassifier\n",
    "from sklearn.cross_validation import StratifiedKFold\n",
    "from sklearn.metrics import accuracy_score\n",
    "\n",
    "%matplotlib inline"
   ]
  },
  {
   "cell_type": "markdown",
   "metadata": {},
   "source": [
    "# Read data"
   ]
  },
  {
   "cell_type": "code",
   "execution_count": 2,
   "metadata": {
    "collapsed": false
   },
   "outputs": [],
   "source": [
    "train_df = pd.read_csv('../input/train.csv')\n",
    "test_df = pd.read_csv('../input/test.csv')\n",
    "all_df = train_df.append(test_df)\n",
    "\n",
    "all_df['is_test'] = all_df.Survived.isnull()\n",
    "all_df.index = all_df.Survived\n"
   ]
  },
  {
   "cell_type": "code",
   "execution_count": 3,
   "metadata": {
    "collapsed": false
   },
   "outputs": [
    {
     "data": {
      "text/html": [
       "<div>\n",
       "<table border=\"1\" class=\"dataframe\">\n",
       "  <thead>\n",
       "    <tr style=\"text-align: right;\">\n",
       "      <th></th>\n",
       "      <th>Age</th>\n",
       "      <th>Cabin</th>\n",
       "      <th>Embarked</th>\n",
       "      <th>Fare</th>\n",
       "      <th>Name</th>\n",
       "      <th>Parch</th>\n",
       "      <th>PassengerId</th>\n",
       "      <th>Pclass</th>\n",
       "      <th>Sex</th>\n",
       "      <th>SibSp</th>\n",
       "      <th>Survived</th>\n",
       "      <th>Ticket</th>\n",
       "      <th>is_test</th>\n",
       "    </tr>\n",
       "    <tr>\n",
       "      <th>Survived</th>\n",
       "      <th></th>\n",
       "      <th></th>\n",
       "      <th></th>\n",
       "      <th></th>\n",
       "      <th></th>\n",
       "      <th></th>\n",
       "      <th></th>\n",
       "      <th></th>\n",
       "      <th></th>\n",
       "      <th></th>\n",
       "      <th></th>\n",
       "      <th></th>\n",
       "      <th></th>\n",
       "    </tr>\n",
       "  </thead>\n",
       "  <tbody>\n",
       "    <tr>\n",
       "      <th>0</th>\n",
       "      <td>22</td>\n",
       "      <td>NaN</td>\n",
       "      <td>S</td>\n",
       "      <td>7.2500</td>\n",
       "      <td>Braund, Mr. Owen Harris</td>\n",
       "      <td>0</td>\n",
       "      <td>1</td>\n",
       "      <td>3</td>\n",
       "      <td>male</td>\n",
       "      <td>1</td>\n",
       "      <td>0</td>\n",
       "      <td>A/5 21171</td>\n",
       "      <td>False</td>\n",
       "    </tr>\n",
       "    <tr>\n",
       "      <th>1</th>\n",
       "      <td>38</td>\n",
       "      <td>C85</td>\n",
       "      <td>C</td>\n",
       "      <td>71.2833</td>\n",
       "      <td>Cumings, Mrs. John Bradley (Florence Briggs Th...</td>\n",
       "      <td>0</td>\n",
       "      <td>2</td>\n",
       "      <td>1</td>\n",
       "      <td>female</td>\n",
       "      <td>1</td>\n",
       "      <td>1</td>\n",
       "      <td>PC 17599</td>\n",
       "      <td>False</td>\n",
       "    </tr>\n",
       "    <tr>\n",
       "      <th>1</th>\n",
       "      <td>26</td>\n",
       "      <td>NaN</td>\n",
       "      <td>S</td>\n",
       "      <td>7.9250</td>\n",
       "      <td>Heikkinen, Miss. Laina</td>\n",
       "      <td>0</td>\n",
       "      <td>3</td>\n",
       "      <td>3</td>\n",
       "      <td>female</td>\n",
       "      <td>0</td>\n",
       "      <td>1</td>\n",
       "      <td>STON/O2. 3101282</td>\n",
       "      <td>False</td>\n",
       "    </tr>\n",
       "    <tr>\n",
       "      <th>1</th>\n",
       "      <td>35</td>\n",
       "      <td>C123</td>\n",
       "      <td>S</td>\n",
       "      <td>53.1000</td>\n",
       "      <td>Futrelle, Mrs. Jacques Heath (Lily May Peel)</td>\n",
       "      <td>0</td>\n",
       "      <td>4</td>\n",
       "      <td>1</td>\n",
       "      <td>female</td>\n",
       "      <td>1</td>\n",
       "      <td>1</td>\n",
       "      <td>113803</td>\n",
       "      <td>False</td>\n",
       "    </tr>\n",
       "    <tr>\n",
       "      <th>0</th>\n",
       "      <td>35</td>\n",
       "      <td>NaN</td>\n",
       "      <td>S</td>\n",
       "      <td>8.0500</td>\n",
       "      <td>Allen, Mr. William Henry</td>\n",
       "      <td>0</td>\n",
       "      <td>5</td>\n",
       "      <td>3</td>\n",
       "      <td>male</td>\n",
       "      <td>0</td>\n",
       "      <td>0</td>\n",
       "      <td>373450</td>\n",
       "      <td>False</td>\n",
       "    </tr>\n",
       "  </tbody>\n",
       "</table>\n",
       "</div>"
      ],
      "text/plain": [
       "          Age Cabin Embarked     Fare  \\\n",
       "Survived                                \n",
       "0          22   NaN        S   7.2500   \n",
       "1          38   C85        C  71.2833   \n",
       "1          26   NaN        S   7.9250   \n",
       "1          35  C123        S  53.1000   \n",
       "0          35   NaN        S   8.0500   \n",
       "\n",
       "                                                       Name  Parch  \\\n",
       "Survived                                                             \n",
       "0                                   Braund, Mr. Owen Harris      0   \n",
       "1         Cumings, Mrs. John Bradley (Florence Briggs Th...      0   \n",
       "1                                    Heikkinen, Miss. Laina      0   \n",
       "1              Futrelle, Mrs. Jacques Heath (Lily May Peel)      0   \n",
       "0                                  Allen, Mr. William Henry      0   \n",
       "\n",
       "          PassengerId  Pclass     Sex  SibSp  Survived            Ticket  \\\n",
       "Survived                                                                   \n",
       "0                   1       3    male      1         0         A/5 21171   \n",
       "1                   2       1  female      1         1          PC 17599   \n",
       "1                   3       3  female      0         1  STON/O2. 3101282   \n",
       "1                   4       1  female      1         1            113803   \n",
       "0                   5       3    male      0         0            373450   \n",
       "\n",
       "         is_test  \n",
       "Survived          \n",
       "0          False  \n",
       "1          False  \n",
       "1          False  \n",
       "1          False  \n",
       "0          False  "
      ]
     },
     "execution_count": 3,
     "metadata": {},
     "output_type": "execute_result"
    }
   ],
   "source": [
    "all_df.head()"
   ]
  },
  {
   "cell_type": "markdown",
   "metadata": {},
   "source": [
    "# Target variable"
   ]
  },
  {
   "cell_type": "code",
   "execution_count": 4,
   "metadata": {
    "collapsed": false
   },
   "outputs": [
    {
     "data": {
      "text/html": [
       "<div>\n",
       "<table border=\"1\" class=\"dataframe\">\n",
       "  <thead>\n",
       "    <tr style=\"text-align: right;\">\n",
       "      <th></th>\n",
       "      <th>PassengerId</th>\n",
       "      <th>Survived</th>\n",
       "      <th>Pclass</th>\n",
       "      <th>Age</th>\n",
       "      <th>SibSp</th>\n",
       "      <th>Parch</th>\n",
       "      <th>Fare</th>\n",
       "    </tr>\n",
       "  </thead>\n",
       "  <tbody>\n",
       "    <tr>\n",
       "      <th>count</th>\n",
       "      <td>891.000000</td>\n",
       "      <td>891.000000</td>\n",
       "      <td>891.000000</td>\n",
       "      <td>714.000000</td>\n",
       "      <td>891.000000</td>\n",
       "      <td>891.000000</td>\n",
       "      <td>891.000000</td>\n",
       "    </tr>\n",
       "    <tr>\n",
       "      <th>mean</th>\n",
       "      <td>446.000000</td>\n",
       "      <td>0.383838</td>\n",
       "      <td>2.308642</td>\n",
       "      <td>29.699118</td>\n",
       "      <td>0.523008</td>\n",
       "      <td>0.381594</td>\n",
       "      <td>32.204208</td>\n",
       "    </tr>\n",
       "    <tr>\n",
       "      <th>std</th>\n",
       "      <td>257.353842</td>\n",
       "      <td>0.486592</td>\n",
       "      <td>0.836071</td>\n",
       "      <td>14.526497</td>\n",
       "      <td>1.102743</td>\n",
       "      <td>0.806057</td>\n",
       "      <td>49.693429</td>\n",
       "    </tr>\n",
       "    <tr>\n",
       "      <th>min</th>\n",
       "      <td>1.000000</td>\n",
       "      <td>0.000000</td>\n",
       "      <td>1.000000</td>\n",
       "      <td>0.420000</td>\n",
       "      <td>0.000000</td>\n",
       "      <td>0.000000</td>\n",
       "      <td>0.000000</td>\n",
       "    </tr>\n",
       "    <tr>\n",
       "      <th>25%</th>\n",
       "      <td>223.500000</td>\n",
       "      <td>0.000000</td>\n",
       "      <td>2.000000</td>\n",
       "      <td>20.125000</td>\n",
       "      <td>0.000000</td>\n",
       "      <td>0.000000</td>\n",
       "      <td>7.910400</td>\n",
       "    </tr>\n",
       "    <tr>\n",
       "      <th>50%</th>\n",
       "      <td>446.000000</td>\n",
       "      <td>0.000000</td>\n",
       "      <td>3.000000</td>\n",
       "      <td>28.000000</td>\n",
       "      <td>0.000000</td>\n",
       "      <td>0.000000</td>\n",
       "      <td>14.454200</td>\n",
       "    </tr>\n",
       "    <tr>\n",
       "      <th>75%</th>\n",
       "      <td>668.500000</td>\n",
       "      <td>1.000000</td>\n",
       "      <td>3.000000</td>\n",
       "      <td>38.000000</td>\n",
       "      <td>1.000000</td>\n",
       "      <td>0.000000</td>\n",
       "      <td>31.000000</td>\n",
       "    </tr>\n",
       "    <tr>\n",
       "      <th>max</th>\n",
       "      <td>891.000000</td>\n",
       "      <td>1.000000</td>\n",
       "      <td>3.000000</td>\n",
       "      <td>80.000000</td>\n",
       "      <td>8.000000</td>\n",
       "      <td>6.000000</td>\n",
       "      <td>512.329200</td>\n",
       "    </tr>\n",
       "  </tbody>\n",
       "</table>\n",
       "</div>"
      ],
      "text/plain": [
       "       PassengerId    Survived      Pclass         Age       SibSp  \\\n",
       "count   891.000000  891.000000  891.000000  714.000000  891.000000   \n",
       "mean    446.000000    0.383838    2.308642   29.699118    0.523008   \n",
       "std     257.353842    0.486592    0.836071   14.526497    1.102743   \n",
       "min       1.000000    0.000000    1.000000    0.420000    0.000000   \n",
       "25%     223.500000    0.000000    2.000000   20.125000    0.000000   \n",
       "50%     446.000000    0.000000    3.000000   28.000000    0.000000   \n",
       "75%     668.500000    1.000000    3.000000   38.000000    1.000000   \n",
       "max     891.000000    1.000000    3.000000   80.000000    8.000000   \n",
       "\n",
       "            Parch        Fare  \n",
       "count  891.000000  891.000000  \n",
       "mean     0.381594   32.204208  \n",
       "std      0.806057   49.693429  \n",
       "min      0.000000    0.000000  \n",
       "25%      0.000000    7.910400  \n",
       "50%      0.000000   14.454200  \n",
       "75%      0.000000   31.000000  \n",
       "max      6.000000  512.329200  "
      ]
     },
     "execution_count": 4,
     "metadata": {},
     "output_type": "execute_result"
    }
   ],
   "source": [
    "train_df.describe()"
   ]
  },
  {
   "cell_type": "markdown",
   "metadata": {},
   "source": [
    "Target variable is **Survived**."
   ]
  },
  {
   "cell_type": "markdown",
   "metadata": {},
   "source": [
    "# Quality metric"
   ]
  },
  {
   "cell_type": "markdown",
   "metadata": {},
   "source": [
    "Your score is the percentage of passengers you correctly predict. That means - **accuracy**."
   ]
  },
  {
   "cell_type": "markdown",
   "metadata": {},
   "source": [
    "# Model\n",
    "\n",
    "## One variable model\n",
    "Let's build a very simple model, based on one variable.\n",
    "That nobody will survived."
   ]
  },
  {
   "cell_type": "code",
   "execution_count": 5,
   "metadata": {
    "collapsed": false
   },
   "outputs": [],
   "source": [
    "def select_features(df):\n",
    "    non_obj_feats = df.columns[ df.dtypes != 'object' ]\n",
    "    black_list = ['PassengerId', 'is_test', 'Survived']\n",
    "    \n",
    "    return [feat for feat in non_obj_feats if feat not in black_list ]\n",
    "\n",
    "def get_X_y(df):\n",
    "    feats = select_features(df)\n",
    "    \n",
    "    X = df[feats].values\n",
    "    y = df.index.values.astype(int)\n",
    "    \n",
    "    return X, y\n",
    "\n",
    "def check_quality(model, X, y, n_folds=5, random_state=0, shuffle=True):\n",
    "    skf = StratifiedKFold(y, n_folds=n_folds, random_state=random_state, shuffle=shuffle)\n",
    "    scores = []\n",
    "    \n",
    "    for train_index, test_index in skf:\n",
    "        X_train, X_test = X[train_index], X[test_index]\n",
    "        y_train, y_test = y[train_index], y[test_index]\n",
    "        \n",
    "        model.fit(X_train, y_train)\n",
    "        y_pred = model.predict(X_test)\n",
    "        score = accuracy_score(y_test, y_pred)\n",
    "        \n",
    "        scores.append(score)\n",
    "        \n",
    "    return np.mean(scores), np.std(scores)\n",
    "\n",
    "def train_and_verify(df, model):\n",
    "    X, y = get_X_y( df[ df.is_test == False ] )\n",
    "    return check_quality(model, X, y)\n",
    "\n",
    "def iteration_modeling(all_df, model = RandomForestClassifier(), iterations=300):\n",
    "    res = [train_and_verify(all_df, model)[0] for x in range(iterations)]\n",
    "    return {'min': np.min(res), 'mean': np.mean(res), 'max': np.max(res) }\n",
    "\n",
    "def get_importance_features(data, model, limit):\n",
    "    X,y = get_X_y(data)\n",
    "    cols = select_features(data)\n",
    "    \n",
    "    model.fit(X, y)\n",
    "    feats = pd.DataFrame(model.feature_importances_, index=data[cols].columns)\n",
    "    feats = feats.sort([0], ascending=False) [:limit]\n",
    "    return feats.rename(columns={0:'feature'})\n",
    "    \n",
    "def draw_importance_features(data, model=RandomForestClassifier(), limit=30):\n",
    "    feats = get_importance_features(data, model, limit)\n",
    "    feats.plot(kind='bar', figsize=(20, 8))"
   ]
  },
  {
   "cell_type": "code",
   "execution_count": 6,
   "metadata": {
    "collapsed": false
   },
   "outputs": [],
   "source": [
    "class SingleVariableModel(BaseEstimator, ClassifierMixin):\n",
    "    def __init__(self, seed=1):\n",
    "        np.random.seed(seed)\n",
    "\n",
    "    def fit(self, X, y):\n",
    "        return self\n",
    "        \n",
    "    def predict(self, X):\n",
    "        \n",
    "        \n",
    "        return [0] * len(X)\n",
    "    \n",
    "    def __repr__(self):\n",
    "        return 'SingleVariableModel'"
   ]
  },
  {
   "cell_type": "markdown",
   "metadata": {},
   "source": [
    "## Run & evoluate single variable model"
   ]
  },
  {
   "cell_type": "code",
   "execution_count": 7,
   "metadata": {
    "collapsed": false
   },
   "outputs": [
    {
     "data": {
      "text/plain": [
       "(0.61616490890978648, 0.0015536004208290756)"
      ]
     },
     "execution_count": 7,
     "metadata": {},
     "output_type": "execute_result"
    }
   ],
   "source": [
    "train_and_verify(all_df, SingleVariableModel())"
   ]
  },
  {
   "cell_type": "markdown",
   "metadata": {
    "collapsed": true
   },
   "source": [
    "**What do you think about this result?**"
   ]
  },
  {
   "cell_type": "markdown",
   "metadata": {
    "collapsed": true
   },
   "source": [
    "## Let's build more advanced model"
   ]
  },
  {
   "cell_type": "markdown",
   "metadata": {},
   "source": [
    "### Missing values\n",
    "There're several methods how to manage missing values, let's fill out -1."
   ]
  },
  {
   "cell_type": "code",
   "execution_count": 8,
   "metadata": {
    "collapsed": true
   },
   "outputs": [],
   "source": [
    "all_df.fillna(-1, inplace=True)"
   ]
  },
  {
   "cell_type": "code",
   "execution_count": 9,
   "metadata": {
    "collapsed": false
   },
   "outputs": [
    {
     "data": {
      "text/plain": [
       "{'max': 0.70819423594760877,\n",
       " 'mean': 0.68713759526281004,\n",
       " 'min': 0.66330648378760526}"
      ]
     },
     "execution_count": 9,
     "metadata": {},
     "output_type": "execute_result"
    }
   ],
   "source": [
    "iteration_modeling(all_df)"
   ]
  },
  {
   "cell_type": "markdown",
   "metadata": {
    "collapsed": true
   },
   "source": [
    "The result looks better than previous one (**0.616** vs **0.68**).  "
   ]
  },
  {
   "cell_type": "markdown",
   "metadata": {},
   "source": [
    "## Categorical variables\n",
    "*or how to manage it*\n",
    "\n",
    "\n",
    "Let’s try understand better topic related with categorical variables and transformation (usually there’re a lot of categorial variables in real dataset).\n",
    "\n",
    "### Transforming categorical variables is required?\n",
    "For some algorithm yes. For example for  linear models, SVMs with the standard kernels and (what the most significant for most cases) XGBboost.\n",
    "In theory Random Forest (RF) should able works with “string\", but for sklearn implementation is required transforming to float (or should be able casting to float).\n",
    "\n",
    "Here is checking: [check_array](https://github.com/scikit-learn/scikit-learn/blob/0.17.X/sklearn/ensemble/forest.py#L212) and DTYPE is [float32](https://github.com/scikit-learn/scikit-learn/blob/0.17.X/sklearn/tree/_tree.pyx#L50).\n",
    "\n",
    "\n",
    "### How many options there’re how to mange categorical variables?\n",
    "At least three:\n",
    "* keep as is (sting), but it doesn’t work for some algorithms (and this is why most rarely option)\n",
    "* transform string into unique integer - [label encoder](http://scikit-learn.org/stable/modules/generated/sklearn.preprocessing.LabelEncoder.html)\n",
    "* transform for each classes into an unique column and use 0/1 (you can treat it like - false/true) - [one-hot encoding](http://scikit-learn.org/stable/modules/generated/sklearn.preprocessing.OneHotEncoder.html#sklearn.preprocessing.OneHotEncoder)\n",
    "\n",
    "### Which one is better?\n",
    "It depends… remember that in machine learning (ML) matter only score and feel comfortable with focusing first on score and only later on interpretation (it’s very pragmatic approach). I believe that there’re cases when you can use all possible options how to represent categorical variables.\n",
    "\n",
    "But, be aware that hot-encoding sounds more sensible (from semantic point of view) than label encoding.\n",
    "Let say, there’s transformation - female => 0, male => 1. When you use integer in one column for algorithm it looks at least comparable, e.g. \"1 > 0\", but for our case \"male > female\" looks meaningless... or do you have some ideas how to interpret given case :)."
   ]
  },
  {
   "cell_type": "markdown",
   "metadata": {},
   "source": [
    "### Show me the data, talk is cheap (c)!\n",
    "\n",
    "\n",
    "### How to interpret the score? \n",
    "When you run RF twice you will note a bit different result. Why? Because random_state is None. If you want to see that same result, you should assign some number (this point in the last step could help improve and win, but for initial up to you).\n",
    "\n",
    "I’ll run 300 times “train_and_verify\", so it’ll be generate 300 scores. And this is why like a result will be 3 numbers: min, mean and max (btw, usually mean looks quite stable, even if you run few times)."
   ]
  },
  {
   "cell_type": "code",
   "execution_count": 24,
   "metadata": {
    "collapsed": false
   },
   "outputs": [],
   "source": [
    "if 'sex_male' not in all_df:\n",
    "    one_hot = pd.get_dummies( all_df.Sex, prefix='sex')\n",
    "    all_df = pd.concat( [all_df, one_hot], axis=1 )\n",
    "    \n",
    "    \n",
    "from sklearn.preprocessing import LabelEncoder\n",
    "all_df['sex_map'] = LabelEncoder().fit(all_df['Sex']).transform(all_df['Sex'])"
   ]
  },
  {
   "cell_type": "markdown",
   "metadata": {},
   "source": [
    "### label encoder"
   ]
  },
  {
   "cell_type": "code",
   "execution_count": 29,
   "metadata": {
    "collapsed": true
   },
   "outputs": [],
   "source": [
    "def select_features(df):\n",
    "    non_obj_feats = df.columns[ df.dtypes != 'object' ]\n",
    "    black_list = ['PassengerId', 'is_test', 'Survived', 'sex_male', 'sex_female']\n",
    "    \n",
    "    return [feat for feat in non_obj_feats if feat not in black_list ]"
   ]
  },
  {
   "cell_type": "code",
   "execution_count": 30,
   "metadata": {
    "collapsed": false
   },
   "outputs": [
    {
     "data": {
      "image/png": "[encoded data removed]",
      "text/plain": [
       "<matplotlib.figure.Figure at 0x10f8e7cd0>"
      ]
     },
     "metadata": {},
     "output_type": "display_data"
    }
   ],
   "source": [
    "draw_importance_features(all_df)"
   ]
  },
  {
   "cell_type": "code",
   "execution_count": 33,
   "metadata": {
    "collapsed": false
   },
   "outputs": [
    {
     "data": {
      "text/plain": [
       "{'max': 0.81373203011433137,\n",
       " 'mean': 0.79736058822882716,\n",
       " 'min': 0.77780137294058027}"
      ]
     },
     "execution_count": 33,
     "metadata": {},
     "output_type": "execute_result"
    }
   ],
   "source": [
    "iteration_modeling(all_df)"
   ]
  },
  {
   "cell_type": "markdown",
   "metadata": {
    "collapsed": true
   },
   "source": [
    "### one-hot encoder"
   ]
  },
  {
   "cell_type": "code",
   "execution_count": 47,
   "metadata": {
    "collapsed": true
   },
   "outputs": [],
   "source": [
    "def select_features(df):\n",
    "    non_obj_feats = df.columns[ df.dtypes != 'object' ]\n",
    "    black_list = ['PassengerId', 'is_test', 'Survived', 'sex_map']\n",
    "    \n",
    "    return [feat for feat in non_obj_feats if feat not in black_list ]"
   ]
  },
  {
   "cell_type": "code",
   "execution_count": 48,
   "metadata": {
    "collapsed": false
   },
   "outputs": [
    {
     "data": {
      "image/png": "[encoded data removed]",
      "text/plain": [
       "<matplotlib.figure.Figure at 0x112ea5c90>"
      ]
     },
     "metadata": {},
     "output_type": "display_data"
    }
   ],
   "source": [
    "draw_importance_features(all_df)"
   ]
  },
  {
   "cell_type": "code",
   "execution_count": 49,
   "metadata": {
    "collapsed": false
   },
   "outputs": [
    {
     "data": {
      "text/plain": [
       "{'max': 0.81485562561994929,\n",
       " 'mean': 0.79749210289051387,\n",
       " 'min': 0.77777626466112504}"
      ]
     },
     "execution_count": 49,
     "metadata": {},
     "output_type": "execute_result"
    }
   ],
   "source": [
    "iteration_modeling(all_df)"
   ]
  },
  {
   "cell_type": "markdown",
   "metadata": {},
   "source": [
    "### label encoder & one-hot encoder"
   ]
  },
  {
   "cell_type": "code",
   "execution_count": 51,
   "metadata": {
    "collapsed": true
   },
   "outputs": [],
   "source": [
    "def select_features(df):\n",
    "    non_obj_feats = df.columns[ df.dtypes != 'object' ]\n",
    "    black_list = ['PassengerId', 'is_test', 'Survived']\n",
    "    \n",
    "    return [feat for feat in non_obj_feats if feat not in black_list ]"
   ]
  },
  {
   "cell_type": "code",
   "execution_count": 54,
   "metadata": {
    "collapsed": false
   },
   "outputs": [
    {
     "data": {
      "image/png": "[encoded data removed]",
      "text/plain": [
       "<matplotlib.figure.Figure at 0x1132d5b90>"
      ]
     },
     "metadata": {},
     "output_type": "display_data"
    }
   ],
   "source": [
    "draw_importance_features(all_df)"
   ]
  },
  {
   "cell_type": "code",
   "execution_count": 52,
   "metadata": {
    "collapsed": false
   },
   "outputs": [
    {
     "data": {
      "text/plain": [
       "{'max': 0.81484934855008562,\n",
       " 'mean': 0.79715503984284397,\n",
       " 'min': 0.77663983130640712}"
      ]
     },
     "execution_count": 52,
     "metadata": {},
     "output_type": "execute_result"
    }
   ],
   "source": [
    "iteration_modeling(all_df)"
   ]
  },
  {
   "cell_type": "markdown",
   "metadata": {},
   "source": [
    "### In summary\n",
    "* one_hot encoder looks a bit better: **0.79749** (one-hot) compare to **0.79736** (label)\n",
    "* one_hot & label at the same time provide the worst score - **0.79716**\n",
    "* this is why using one_hot for this task looks more sensible than other options"
   ]
  },
  {
   "cell_type": "code",
   "execution_count": null,
   "metadata": {
    "collapsed": true
   },
   "outputs": [],
   "source": []
  }
 ],
 "metadata": {
  "kernelspec": {
   "display_name": "Python 2",
   "language": "python",
   "name": "python2"
  },
  "language_info": {
   "codemirror_mode": {
    "name": "ipython",
    "version": 2
   },
   "file_extension": ".py",
   "mimetype": "text/x-python",
   "name": "python",
   "nbconvert_exporter": "python",
   "pygments_lexer": "ipython2",
   "version": "2.7.10"
  }
 },
 "nbformat": 4,
 "nbformat_minor": 0
}
